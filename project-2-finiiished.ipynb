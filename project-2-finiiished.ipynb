{
 "cells": [
  {
   "cell_type": "code",
   "execution_count": 1,
   "metadata": {
    "collapsed": false
   },
   "outputs": [
    {
     "name": "stdout",
     "output_type": "stream",
     "text": [
      "<__main__.Customers instance at 0x104828758>\n",
      "['joe', 'jamal', 'brandi']\n",
      "<__main__.Osm instance at 0x104828560>\n",
      "<__main__.Osm instance at 0x104828560>\n"
     ]
    }
   ],
   "source": [
    "class Osm():\n",
    "    def __init__(self):\n",
    "        self.store_counter = 0\n",
    "        self.store_list = []\n",
    "\n",
    "\n",
    "    def createstore(self,name):\n",
    "        self.name = name\n",
    "        self.store_counter += 1\n",
    "        self.store_list.append(name)\n",
    "        new_store = store(name)\n",
    "        return new_store\n",
    "    \n",
    "class store(object):\n",
    "        \n",
    "    def __init__(self,store_name,):\n",
    "        self.store_name = store_name\n",
    "        self.inventory = {}\n",
    "        self.customers = []\n",
    "        \n",
    "        \n",
    "        print \"store created, store name is \" + store_name\n",
    "    \n",
    "    def add_inventory_items(self,item,number):\n",
    "        self.item = item\n",
    "        self.number = number\n",
    "        \n",
    "        self.inventory[item] = number\n",
    "        \n",
    "    def sell_items(self,item,number):\n",
    "        self.item = item\n",
    "        self.number = number\n",
    "        \n",
    "        self.inventory[item] -= number\n",
    "        \n",
    "class Customers():\n",
    "    def __init__(self):\n",
    "        self.people_list = []\n",
    "    \n",
    "    def customer_list(self,name):\n",
    "        self.name = name\n",
    "        self.people_list.append(name)\n",
    "        \n",
    "marcs_customers = Customers()\n",
    "print marcs_customers\n",
    "marcs_customers.customer_list('joe')\n",
    "marcs_customers.customer_list('jamal')\n",
    "marcs_customers.customer_list('brandi')\n",
    "\n",
    "\n",
    "print marcs_customers.people_list\n",
    "\n",
    "marcs_group_of_stores = Osm()\n",
    "marcs_group_of_stores = Osm()\n",
    "print marcs_group_of_stores \n",
    "print marcs_group_of_stores\n"
   ]
  },
  {
   "cell_type": "code",
   "execution_count": 2,
   "metadata": {
    "collapsed": false
   },
   "outputs": [
    {
     "name": "stdout",
     "output_type": "stream",
     "text": [
      "store created, store name is ballstore\n"
     ]
    }
   ],
   "source": [
    "ballstore = marcs_group_of_stores.createstore('ballstore')"
   ]
  },
  {
   "cell_type": "code",
   "execution_count": 3,
   "metadata": {
    "collapsed": false
   },
   "outputs": [
    {
     "data": {
      "text/plain": [
       "{'baseball': 40, 'basketball': 30, 'football': 20}"
      ]
     },
     "execution_count": 3,
     "metadata": {},
     "output_type": "execute_result"
    }
   ],
   "source": [
    "ballstore.add_inventory_items('baseball',40)\n",
    "ballstore.add_inventory_items('basketball',30)\n",
    "ballstore.add_inventory_items('football',20)\n",
    "ballstore.inventory"
   ]
  },
  {
   "cell_type": "code",
   "execution_count": 4,
   "metadata": {
    "collapsed": false
   },
   "outputs": [
    {
     "name": "stdout",
     "output_type": "stream",
     "text": [
      "store created, store name is skimboards\n"
     ]
    }
   ],
   "source": [
    "skimboards = marcs_group_of_stores.createstore('skimboards')"
   ]
  },
  {
   "cell_type": "code",
   "execution_count": 5,
   "metadata": {
    "collapsed": false
   },
   "outputs": [
    {
     "data": {
      "text/plain": [
       "{'exile': 20, 'victoria': 40, 'zap': 15}"
      ]
     },
     "execution_count": 5,
     "metadata": {},
     "output_type": "execute_result"
    }
   ],
   "source": [
    "skimboards.add_inventory_items('zap',15)\n",
    "skimboards.add_inventory_items('exile',20)\n",
    "skimboards.add_inventory_items('victoria',40)\n",
    "skimboards.inventory\n"
   ]
  },
  {
   "cell_type": "code",
   "execution_count": 6,
   "metadata": {
    "collapsed": false
   },
   "outputs": [
    {
     "name": "stdout",
     "output_type": "stream",
     "text": [
      "store created, store name is wetsuits\n"
     ]
    },
    {
     "data": {
      "text/plain": [
       "{'billabong': 50, 'jupiter': 25, 'moon': 60}"
      ]
     },
     "execution_count": 6,
     "metadata": {},
     "output_type": "execute_result"
    }
   ],
   "source": [
    "wetsuits = marcs_group_of_stores.createstore('wetsuits')\n",
    "wetsuits.add_inventory_items('billabong',50)\n",
    "wetsuits.add_inventory_items('jupiter',25)\n",
    "wetsuits.add_inventory_items('moon',60)\n",
    "wetsuits.inventory"
   ]
  },
  {
   "cell_type": "code",
   "execution_count": 7,
   "metadata": {
    "collapsed": false
   },
   "outputs": [
    {
     "data": {
      "text/plain": [
       "{'billabong': 50, 'jupiter': 15, 'moon': 60}"
      ]
     },
     "execution_count": 7,
     "metadata": {},
     "output_type": "execute_result"
    }
   ],
   "source": [
    "wetsuits.sell_items('jupiter',10)\n",
    "wetsuits.inventory"
   ]
  }
 ],
 "metadata": {
  "anaconda-cloud": {},
  "kernelspec": {
   "display_name": "Python [conda root]",
   "language": "python",
   "name": "conda-root-py"
  },
  "language_info": {
   "codemirror_mode": {
    "name": "ipython",
    "version": 2
   },
   "file_extension": ".py",
   "mimetype": "text/x-python",
   "name": "python",
   "nbconvert_exporter": "python",
   "pygments_lexer": "ipython2",
   "version": "2.7.12"
  }
 },
 "nbformat": 4,
 "nbformat_minor": 1
}
