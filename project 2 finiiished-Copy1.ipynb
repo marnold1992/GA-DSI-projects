{
 "cells": [
  {
   "cell_type": "code",
   "execution_count": 46,
   "metadata": {
    "collapsed": false
   },
   "outputs": [],
   "source": [
    "class Osm():\n",
    "    def __init__(self,product_list):\n",
    "        self.store_counter = 0\n",
    "        self.store_list = []\n",
    "        self.product_list = product_list\n",
    "\n",
    "\n",
    "    def createstore(self,name):\n",
    "        self.name = name\n",
    "        self.store_counter += 1\n",
    "        self.store_list.append(name)\n",
    "        new_store = store(name)\n",
    "        return new_store\n",
    "    \n",
    "class store(object):\n",
    "        \n",
    "    def __init__(self,store_name,):\n",
    "        self.store_name = store_name\n",
    "        self.inventory = {}\n",
    "        self.customers = []\n",
    "        self.customer_counter = 0\n",
    "        \n",
    "        print \"store created, store name is \" + store_name\n",
    "        \n",
    "    def createcustomer(self,customer_name):\n",
    "        self.customer_name = customer_name\n",
    "        self.customer_counter += 1\n",
    "        self.customers.append(customer_name)\n",
    "        new_customer = Customers(customer_name)\n",
    "        return new_customer\n",
    "    \n",
    "    def add_inventory_items(self,item,number):\n",
    "        self.item = item\n",
    "        self.number = number\n",
    "        \n",
    "        self.inventory[item] = number\n",
    "        \n",
    "    def sell_items(self,item,number):\n",
    "        self.item = item\n",
    "        self.number = number\n",
    "        \n",
    "        self.inventory[item] -= number\n",
    "        \n",
    "class Customers():\n",
    "    def __init__(self,name):\n",
    "        self.name = name\n",
    "        self.purchase_history = {}\n",
    "        self.purchase_list = []\n",
    "        self.purchase_counter = 0\n",
    "        \n",
    "       \n",
    "        \n",
    "        \n",
    "    def make_purchase_items(self,purchase_item,purchase_number,store):\n",
    "        self.purchase_item = purchase_item\n",
    "        self.purchase_number = purchase_number\n",
    "        self.purchase_history[purchase_item] = purchase_number\n",
    "        self.store = store\n",
    "        store.sell_items(purchase_item,purchase_number)\n",
    "        \n",
    "     \n",
    " \n"
   ]
  },
  {
   "cell_type": "code",
   "execution_count": 47,
   "metadata": {
    "collapsed": false
   },
   "outputs": [],
   "source": [
    "#create 2 online store manager objects\n",
    "marcs_mall = Osm(['balls','skimboards','wetsuits'])\n",
    "    \n",
    "jamals_mall = Osm(['skis','snowboards','horses'])\n"
   ]
  },
  {
   "cell_type": "code",
   "execution_count": 48,
   "metadata": {
    "collapsed": false
   },
   "outputs": [
    {
     "name": "stdout",
     "output_type": "stream",
     "text": [
      "store created, store name is ballstore\n",
      "store created, store name is skimboardstore\n",
      "store created, store name is wetsuitstore\n",
      "store created, store name is stuff\n",
      "store created, store name is oh\n"
     ]
    }
   ],
   "source": [
    "# create 3 stores in one OSM and 2 stores in the other\n",
    "ballstore = marcs_mall.createstore('ballstore')\n",
    "skimboardstore = marcs_mall.createstore('skimboardstore')\n",
    "wetsuitstore = marcs_mall.createstore('wetsuitstore')\n",
    "\n",
    "stuff = jamals_mall.createstore('stuff')\n",
    "oh = jamals_mall.createstore('oh')\n"
   ]
  },
  {
   "cell_type": "code",
   "execution_count": 49,
   "metadata": {
    "collapsed": false
   },
   "outputs": [
    {
     "name": "stdout",
     "output_type": "stream",
     "text": [
      "2\n",
      "['stuff', 'oh']\n",
      "3\n",
      "['ballstore', 'skimboardstore', 'wetsuitstore']\n"
     ]
    }
   ],
   "source": [
    "# check list of stores and number of stores for each OSM\n",
    "print jamals_mall.store_counter \n",
    "print jamals_mall.store_list\n",
    "\n",
    "print marcs_mall.store_counter\n",
    "print marcs_mall.store_list\n",
    "\n",
    " \n"
   ]
  },
  {
   "cell_type": "code",
   "execution_count": 50,
   "metadata": {
    "collapsed": false
   },
   "outputs": [],
   "source": [
    "# (choose one OSM to work with from this point onwards)\n",
    "# add inventory to each of the stores\n",
    "ballstore.add_inventory_items('baseball',40)\n",
    "ballstore.add_inventory_items('basketball',30)\n",
    "ballstore.add_inventory_items('football',20)\n",
    "\n",
    "\n",
    "skimboardstore.add_inventory_items('zap',15)\n",
    "skimboardstore.add_inventory_items('exile',20)\n",
    "skimboardstore.add_inventory_items('victoria',40)\n",
    "\n",
    "\n",
    "wetsuitstore.add_inventory_items('billabong',50)\n",
    "wetsuitstore.add_inventory_items('jupiter',25)\n",
    "wetsuitstore.add_inventory_items('moon',60)\n",
    "\n",
    "\n"
   ]
  },
  {
   "cell_type": "code",
   "execution_count": 51,
   "metadata": {
    "collapsed": false
   },
   "outputs": [
    {
     "name": "stdout",
     "output_type": "stream",
     "text": [
      "{'basketball': 30, 'baseball': 40, 'football': 20}\n",
      "{'exile': 20, 'zap': 15, 'victoria': 40}\n",
      "{'jupiter': 25, 'billabong': 50, 'moon': 60}\n"
     ]
    }
   ],
   "source": [
    "# check inventory\n",
    "print ballstore.inventory\n",
    "print skimboardstore.inventory\n",
    "print wetsuitstore.inventory"
   ]
  },
  {
   "cell_type": "code",
   "execution_count": 52,
   "metadata": {
    "collapsed": false
   },
   "outputs": [],
   "source": [
    "# create customers for each store\n",
    "eliza = ballstore.createcustomer('eliza')\n",
    "becky = skimboardstore.createcustomer('becky')\n",
    "kevin = wetsuitstore.createcustomer('kevin')"
   ]
  },
  {
   "cell_type": "code",
   "execution_count": 53,
   "metadata": {
    "collapsed": false
   },
   "outputs": [
    {
     "name": "stdout",
     "output_type": "stream",
     "text": [
      "1\n",
      "['eliza']\n",
      "1\n",
      "['kevin']\n"
     ]
    }
   ],
   "source": [
    "# check list of customers and number of customers for each store\n",
    "print ballstore.customer_counter\n",
    "print ballstore.customers\n",
    "\n",
    "print wetsuitstore.customer_counter\n",
    "print wetsuitstore.customers\n"
   ]
  },
  {
   "cell_type": "code",
   "execution_count": 54,
   "metadata": {
    "collapsed": true
   },
   "outputs": [],
   "source": [
    "# add purchases for some customers\n",
    "eliza.make_purchase_items('baseball',4,ballstore)\n",
    "eliza.make_purchase_items('basketball',3,ballstore)\n",
    "kevin.make_purchase_items('billabong',2,wetsuitstore)"
   ]
  },
  {
   "cell_type": "code",
   "execution_count": 55,
   "metadata": {
    "collapsed": false
   },
   "outputs": [
    {
     "name": "stdout",
     "output_type": "stream",
     "text": [
      "{'basketball': 3, 'baseball': 4}\n",
      "{'billabong': 2}\n"
     ]
    }
   ],
   "source": [
    "# check customer purchase history\n",
    "print eliza.purchase_history\n",
    "print kevin.purchase_history"
   ]
  },
  {
   "cell_type": "code",
   "execution_count": 59,
   "metadata": {
    "collapsed": false
   },
   "outputs": [
    {
     "name": "stdout",
     "output_type": "stream",
     "text": [
      "{'basketball': 27, 'baseball': 36, 'football': 20}\n",
      "{'exile': 20, 'zap': 15, 'victoria': 40}\n",
      "{'jupiter': 25, 'billabong': 48, 'moon': 60}\n"
     ]
    }
   ],
   "source": [
    "# check store inventory\n",
    "print ballstore.inventory\n",
    "print skimboardstore.inventory\n",
    "print wetsuitstore.inventory\n"
   ]
  }
 ],
 "metadata": {
  "anaconda-cloud": {},
  "kernelspec": {
   "display_name": "Python [conda root]",
   "language": "python",
   "name": "conda-root-py"
  },
  "language_info": {
   "codemirror_mode": {
    "name": "ipython",
    "version": 2
   },
   "file_extension": ".py",
   "mimetype": "text/x-python",
   "name": "python",
   "nbconvert_exporter": "python",
   "pygments_lexer": "ipython2",
   "version": "2.7.12"
  }
 },
 "nbformat": 4,
 "nbformat_minor": 1
}
